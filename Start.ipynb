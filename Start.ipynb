# -*- coding: utf-8 -*-
"""
Created on Fri Oct  3 10:39:22 2025

@author: natha
"""

# Installation des bibliotheques utiles
pip install pandas
pip install numpy